{
 "cells": [
  {
   "cell_type": "code",
   "execution_count": 1,
   "id": "275a3735",
   "metadata": {},
   "outputs": [
    {
     "data": {
      "text/plain": [
       "0.7105263157894737"
      ]
     },
     "execution_count": 1,
     "metadata": {},
     "output_type": "execute_result"
    }
   ],
   "source": [
    "import pandas as pd\n",
    "from sklearn.model_selection import train_test_split\n",
    "from sklearn.tree import DecisionTreeClassifier\n",
    "from sklearn.feature_selection import mutual_info_classif, chi2\n",
    "from sklearn.metrics import f1_score, accuracy_score, recall_score, precision_score, confusion_matrix, classification_report\n",
    "import pickle\n",
    "\n",
    "data = pd.read_csv(\"data/ACME-HappinessSurvey2020.csv\")\n",
    "\n",
    "# Prepare data\n",
    "y = data[\"Y\"]\n",
    "X = data.drop(columns = ['Y'])\n",
    "X_train, X_test, Y_train, Y_test = train_test_split(X, y, test_size=0.3, random_state=12)\n",
    "\n",
    "\n",
    "dt = DecisionTreeClassifier(random_state=0, ccp_alpha=0.016)\n",
    "dt.fit(X_train,Y_train)\n",
    "\n",
    "# Evaluation\n",
    "pred_test = dt.predict(X_test)\n",
    "accuracy_score(Y_test, pred_test)\n",
    "\n",
    "\n"
   ]
  },
  {
   "cell_type": "code",
   "execution_count": 36,
   "id": "1aa1cb85",
   "metadata": {},
   "outputs": [],
   "source": [
    "with open('trained_model.pkl', 'wb') as f:\n",
    "    pickle.dump(dt, f)\n"
   ]
  },
  {
   "cell_type": "code",
   "execution_count": null,
   "id": "b36c678a",
   "metadata": {},
   "outputs": [],
   "source": []
  }
 ],
 "metadata": {
  "kernelspec": {
   "display_name": "Python 3 (ipykernel)",
   "language": "python",
   "name": "python3"
  },
  "language_info": {
   "codemirror_mode": {
    "name": "ipython",
    "version": 3
   },
   "file_extension": ".py",
   "mimetype": "text/x-python",
   "name": "python",
   "nbconvert_exporter": "python",
   "pygments_lexer": "ipython3",
   "version": "3.10.8"
  }
 },
 "nbformat": 4,
 "nbformat_minor": 5
}
